{
 "cells": [
  {
   "cell_type": "code",
   "execution_count": 17,
   "metadata": {},
   "outputs": [],
   "source": [
    "import os\n",
    "import pandas as pd"
   ]
  },
  {
   "cell_type": "code",
   "execution_count": 20,
   "metadata": {},
   "outputs": [],
   "source": [
    "file_path_risky = 'data/processed_data2.csv'\n",
    "df_risky = pd.read_csv(file_path_risky)"
   ]
  },
  {
   "cell_type": "code",
   "execution_count": 21,
   "metadata": {},
   "outputs": [],
   "source": [
    "import random\n",
    "\n",
    "folder_path_normal = 'data/combined_data.csv'\n",
    "random_seed = 42\n",
    "\n",
    "df_normal = pd.read_csv(folder_path_normal)\n",
    "df_normal = df_normal.sample(n=15000, random_state=random_seed)\n"
   ]
  },
  {
   "cell_type": "code",
   "execution_count": 24,
   "metadata": {},
   "outputs": [
    {
     "data": {
      "text/html": [
       "<div>\n",
       "<style scoped>\n",
       "    .dataframe tbody tr th:only-of-type {\n",
       "        vertical-align: middle;\n",
       "    }\n",
       "\n",
       "    .dataframe tbody tr th {\n",
       "        vertical-align: top;\n",
       "    }\n",
       "\n",
       "    .dataframe thead th {\n",
       "        text-align: right;\n",
       "    }\n",
       "</style>\n",
       "<table border=\"1\" class=\"dataframe\">\n",
       "  <thead>\n",
       "    <tr style=\"text-align: right;\">\n",
       "      <th></th>\n",
       "      <th>Label</th>\n",
       "      <th>Conversation</th>\n",
       "    </tr>\n",
       "  </thead>\n",
       "  <tbody>\n",
       "    <tr>\n",
       "      <th>0</th>\n",
       "      <td>normal</td>\n",
       "      <td>아니 엄마가 홈쇼핑 보다가 폼클렌징을 샀는데 많이도 산 거야;</td>\n",
       "    </tr>\n",
       "    <tr>\n",
       "      <th>1</th>\n",
       "      <td>normal</td>\n",
       "      <td>키키 맞아... 일생에 딱 한번만 해야돼 ㅜㅜ</td>\n",
       "    </tr>\n",
       "    <tr>\n",
       "      <th>2</th>\n",
       "      <td>normal</td>\n",
       "      <td>키키 겨울엔 괜찮은데 여름이 문제야</td>\n",
       "    </tr>\n",
       "    <tr>\n",
       "      <th>3</th>\n",
       "      <td>normal</td>\n",
       "      <td>예전에 피시방에서 커피 많이 마셨는데</td>\n",
       "    </tr>\n",
       "    <tr>\n",
       "      <th>4</th>\n",
       "      <td>normal</td>\n",
       "      <td>키키 나는 지금 머리가 정말 길어</td>\n",
       "    </tr>\n",
       "    <tr>\n",
       "      <th>...</th>\n",
       "      <td>...</td>\n",
       "      <td>...</td>\n",
       "    </tr>\n",
       "    <tr>\n",
       "      <th>32023</th>\n",
       "      <td>성범죄</td>\n",
       "      <td>국산물은 앨리스보다 린덱스에 넘사벽으로 많다 1 린덱들어가면 에러난다   2 머라고...</td>\n",
       "    </tr>\n",
       "    <tr>\n",
       "      <th>32024</th>\n",
       "      <td>성범죄</td>\n",
       "      <td>요즘 국산물 어디서 보냐 새로운게 없어ㅅㅂㅠㅠ 댓글 암호 닉네임</td>\n",
       "    </tr>\n",
       "    <tr>\n",
       "      <th>32025</th>\n",
       "      <td>성범죄</td>\n",
       "      <td>기본점수는 먹고감 ㅎㅌㅊ 여자들은 바로 대주고 ㅍㅌㅊ는 몇 번 봐서 매너있게 다가가...</td>\n",
       "    </tr>\n",
       "    <tr>\n",
       "      <th>32026</th>\n",
       "      <td>성범죄</td>\n",
       "      <td>올라타서 ㅂㅈ로 쓰담쓰담 하는데 보통 털때문에 수세미로 닦는 느낌인데 왁싱한 친구들...</td>\n",
       "    </tr>\n",
       "    <tr>\n",
       "      <th>32027</th>\n",
       "      <td>성범죄</td>\n",
       "      <td>월       골뱅이 돌림빵~       난 김근식처럼 학교앞 초~고딩들 납치해 강...</td>\n",
       "    </tr>\n",
       "  </tbody>\n",
       "</table>\n",
       "<p>32028 rows × 2 columns</p>\n",
       "</div>"
      ],
      "text/plain": [
       "        Label                                       Conversation\n",
       "0      normal                 아니 엄마가 홈쇼핑 보다가 폼클렌징을 샀는데 많이도 산 거야;\n",
       "1      normal                          키키 맞아... 일생에 딱 한번만 해야돼 ㅜㅜ\n",
       "2      normal                                키키 겨울엔 괜찮은데 여름이 문제야\n",
       "3      normal                               예전에 피시방에서 커피 많이 마셨는데\n",
       "4      normal                                 키키 나는 지금 머리가 정말 길어\n",
       "...       ...                                                ...\n",
       "32023     성범죄  국산물은 앨리스보다 린덱스에 넘사벽으로 많다 1 린덱들어가면 에러난다   2 머라고...\n",
       "32024     성범죄                요즘 국산물 어디서 보냐 새로운게 없어ㅅㅂㅠㅠ 댓글 암호 닉네임\n",
       "32025     성범죄  기본점수는 먹고감 ㅎㅌㅊ 여자들은 바로 대주고 ㅍㅌㅊ는 몇 번 봐서 매너있게 다가가...\n",
       "32026     성범죄  올라타서 ㅂㅈ로 쓰담쓰담 하는데 보통 털때문에 수세미로 닦는 느낌인데 왁싱한 친구들...\n",
       "32027     성범죄  월       골뱅이 돌림빵~       난 김근식처럼 학교앞 초~고딩들 납치해 강...\n",
       "\n",
       "[32028 rows x 2 columns]"
      ]
     },
     "execution_count": 24,
     "metadata": {},
     "output_type": "execute_result"
    }
   ],
   "source": [
    "combined_df = pd.concat([df_normal, df_risky], ignore_index=True)\n",
    "combined_df['Label'] = combined_df['Label'].replace('섬범죄', '성범죄')\n",
    "combined_df"
   ]
  },
  {
   "cell_type": "code",
   "execution_count": 26,
   "metadata": {},
   "outputs": [],
   "source": [
    "combined_df.to_csv('data/normal_and_risky_data.csv', index=False, encoding='utf-8-sig')"
   ]
  },
  {
   "cell_type": "code",
   "execution_count": null,
   "metadata": {},
   "outputs": [],
   "source": []
  }
 ],
 "metadata": {
  "kernelspec": {
   "display_name": "base",
   "language": "python",
   "name": "python3"
  },
  "language_info": {
   "codemirror_mode": {
    "name": "ipython",
    "version": 3
   },
   "file_extension": ".py",
   "mimetype": "text/x-python",
   "name": "python",
   "nbconvert_exporter": "python",
   "pygments_lexer": "ipython3",
   "version": "3.11.5"
  }
 },
 "nbformat": 4,
 "nbformat_minor": 2
}
